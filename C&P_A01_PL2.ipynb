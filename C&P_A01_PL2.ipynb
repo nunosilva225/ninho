{
  "nbformat": 4,
  "nbformat_minor": 0,
  "metadata": {
    "colab": {
      "provenance": [],
      "toc_visible": true,
      "mount_file_id": "19RPj__FXclZuMDleWl9zGSLad8oQS42L",
      "authorship_tag": "ABX9TyNPJLotIir+AtxbfXn9R5Kc",
      "include_colab_link": true
    },
    "kernelspec": {
      "name": "python3",
      "display_name": "Python 3"
    },
    "language_info": {
      "name": "python"
    }
  },
  "cells": [
    {
      "cell_type": "markdown",
      "metadata": {
        "id": "view-in-github",
        "colab_type": "text"
      },
      "source": [
        "<a href=\"https://colab.research.google.com/github/nunosilva225/ninho/blob/main/C%26P_A01_PL2.ipynb\" target=\"_parent\"><img src=\"https://colab.research.google.com/assets/colab-badge.svg\" alt=\"Open In Colab\"/></a>"
      ]
    },
    {
      "cell_type": "markdown",
      "source": [
        "#**Aula 01** - Introdução ao Python\n",
        "Prof. Francisco\n",
        "\n",
        "Email:francisco.marcondes@algoritmi.uminho.pt\n"
      ],
      "metadata": {
        "id": "AkdYQD1FAnLd"
      }
    },
    {
      "cell_type": "markdown",
      "source": [
        "##**Ferramentas**:\n",
        "* **Markdown**: https://colab.research.google.com/notebooks/markdown_guide.ipynb\n",
        "\n",
        "* **math**: https://docs.python.org/3/library/math.html"
      ],
      "metadata": {
        "id": "SlZaRR9k-Icd"
      }
    },
    {
      "cell_type": "markdown",
      "source": [
        "##Equações\n",
        "$y=x^2$"
      ],
      "metadata": {
        "id": "zi4N1tWUAM93"
      }
    },
    {
      "cell_type": "markdown",
      "source": [
        "## Operações com Módulo\n",
        "\n"
      ],
      "metadata": {
        "id": "uvXSHYV_JPVR"
      }
    },
    {
      "cell_type": "markdown",
      "source": [
        "#### Exercício\n",
        "\n",
        "Consulte a API do *math* e calcule $\\lfloor \\sqrt{8!} \\rfloor$"
      ],
      "metadata": {
        "id": "DIB-7zqaLRq2"
      }
    },
    {
      "cell_type": "code",
      "source": [
        "from math import floor, sqrt, factorial\n",
        "\n",
        "floor(sqrt (factorial(8)))"
      ],
      "metadata": {
        "colab": {
          "base_uri": "https://localhost:8080/"
        },
        "id": "sR1zMEFoLrn0",
        "outputId": "4070766f-6f5a-44d1-89c5-27c9fabc0ab8"
      },
      "execution_count": null,
      "outputs": [
        {
          "output_type": "execute_result",
          "data": {
            "text/plain": [
              "200"
            ]
          },
          "metadata": {},
          "execution_count": 1
        }
      ]
    },
    {
      "cell_type": "code",
      "source": [
        "from math import floor, sqrt, factorial\n",
        "\n",
        "floor(\n",
        "    sqrt (\n",
        "        factorial(8)))"
      ],
      "metadata": {
        "colab": {
          "base_uri": "https://localhost:8080/"
        },
        "id": "wIA60dEcOHQz",
        "outputId": "3145ff92-73f4-48be-cb3b-f91d2cd19ddd"
      },
      "execution_count": null,
      "outputs": [
        {
          "output_type": "execute_result",
          "data": {
            "text/plain": [
              "200"
            ]
          },
          "metadata": {},
          "execution_count": 25
        }
      ]
    },
    {
      "cell_type": "code",
      "source": [
        "import math\n",
        "\n",
        "math.pow(3,2)"
      ],
      "metadata": {
        "colab": {
          "base_uri": "https://localhost:8080/"
        },
        "id": "QdiDYPpKJdEl",
        "outputId": "05ee6e88-9d99-4da5-d0b1-0dc7b117c218"
      },
      "execution_count": null,
      "outputs": [
        {
          "output_type": "execute_result",
          "data": {
            "text/plain": [
              "9.0"
            ]
          },
          "metadata": {},
          "execution_count": 12
        }
      ]
    },
    {
      "cell_type": "code",
      "source": [
        "from math import sqrt, pow\n",
        "\n",
        "sqrt(pow(3,2))"
      ],
      "metadata": {
        "colab": {
          "base_uri": "https://localhost:8080/"
        },
        "id": "AJrWX0AFJ6I6",
        "outputId": "ceeab028-7b1c-4879-af77-d4bff5f152df"
      },
      "execution_count": null,
      "outputs": [
        {
          "output_type": "execute_result",
          "data": {
            "text/plain": [
              "3.0"
            ]
          },
          "metadata": {},
          "execution_count": 14
        }
      ]
    },
    {
      "cell_type": "markdown",
      "source": [
        "Tipos de Dado:\n",
        "* inteiro\n",
        "* ponto flutuante\n",
        "\n",
        "Operações:\n",
        "\n",
        "Operação |símbolo\n",
        "---|---\n",
        "- adição | +\n",
        "- subtração | -\n",
        "- multiplicação | *\n",
        "- divisão | /\n",
        "- exponenciação | **\n",
        "- precedência | ()"
      ],
      "metadata": {
        "id": "ezRDuTHsCoJR"
      }
    },
    {
      "cell_type": "markdown",
      "source": [
        "## Operações Simples\n"
      ],
      "metadata": {
        "id": "2VJ8JQPeJX5h"
      }
    },
    {
      "cell_type": "code",
      "source": [
        "100+800\n"
      ],
      "metadata": {
        "colab": {
          "base_uri": "https://localhost:8080/"
        },
        "id": "qqllknwR-Zay",
        "outputId": "aec78d86-2603-4f8d-921f-cbece13f4cd7"
      },
      "execution_count": null,
      "outputs": [
        {
          "output_type": "execute_result",
          "data": {
            "text/plain": [
              "900"
            ]
          },
          "metadata": {},
          "execution_count": 3
        }
      ]
    },
    {
      "cell_type": "code",
      "source": [
        "50-5*6\n"
      ],
      "metadata": {
        "colab": {
          "base_uri": "https://localhost:8080/"
        },
        "id": "cg8n_40eCIsF",
        "outputId": "301c2622-0560-496d-c147-b644a04ed139"
      },
      "execution_count": null,
      "outputs": [
        {
          "output_type": "execute_result",
          "data": {
            "text/plain": [
              "20"
            ]
          },
          "metadata": {},
          "execution_count": 5
        }
      ]
    },
    {
      "cell_type": "code",
      "source": [
        "(50-5*6)/3\n"
      ],
      "metadata": {
        "colab": {
          "base_uri": "https://localhost:8080/"
        },
        "id": "YZJG-TF7CYMG",
        "outputId": "3ebfca38-8a62-44d6-9e02-cf36f975ca07"
      },
      "execution_count": null,
      "outputs": [
        {
          "output_type": "execute_result",
          "data": {
            "text/plain": [
              "6.666666666666667"
            ]
          },
          "metadata": {},
          "execution_count": 6
        }
      ]
    },
    {
      "cell_type": "markdown",
      "source": [
        "### Exercício\n",
        "\n",
        "Calcule $\\frac{2 \\times8}{3^2-8}$"
      ],
      "metadata": {
        "id": "mG-KIKaAEBrW"
      }
    },
    {
      "cell_type": "code",
      "source": [
        "(2*8)/(3**2-8)"
      ],
      "metadata": {
        "colab": {
          "base_uri": "https://localhost:8080/"
        },
        "id": "UgLzsfejDpE3",
        "outputId": "d86750db-63ce-43e9-b9fc-2b39fa5f92a3"
      },
      "execution_count": null,
      "outputs": [
        {
          "output_type": "execute_result",
          "data": {
            "text/plain": [
              "16.0"
            ]
          },
          "metadata": {},
          "execution_count": 10
        }
      ]
    },
    {
      "cell_type": "markdown",
      "source": [
        "## Funções personalizadas"
      ],
      "metadata": {
        "id": "9b15vLQAUBAW"
      }
    },
    {
      "cell_type": "code",
      "source": [
        "def quadrado(numero):\n",
        "\n"
      ],
      "metadata": {
        "id": "SGbOlbqnUN-E"
      },
      "execution_count": null,
      "outputs": []
    },
    {
      "cell_type": "code",
      "source": [
        "def exp(base, expoente):3**2\n",
        "\n"
      ],
      "metadata": {
        "id": "TOeiGQGHVnGI"
      },
      "execution_count": null,
      "outputs": []
    },
    {
      "cell_type": "code",
      "source": [
        "def soma(numero1, numero2):\n",
        "\n",
        " soma = numero1 + numero2\n",
        " return soma\n",
        "\n",
        "soma (1,1)"
      ],
      "metadata": {
        "colab": {
          "base_uri": "https://localhost:8080/"
        },
        "id": "B6rgpSgBZw0A",
        "outputId": "761b1972-fbdf-4bfd-a80a-6bb206b6295c"
      },
      "execution_count": null,
      "outputs": [
        {
          "output_type": "execute_result",
          "data": {
            "text/plain": [
              "2"
            ]
          },
          "metadata": {},
          "execution_count": 33
        }
      ]
    },
    {
      "cell_type": "markdown",
      "source": [
        "#### Exercício\n",
        "\n",
        "Crie uma função que calcule a hipotenusa"
      ],
      "metadata": {
        "id": "pmBXLA1HaZIF"
      }
    },
    {
      "cell_type": "code",
      "source": [
        "def hipotenusa(cateto1,cateto2):\n",
        "\n",
        " hipotenusa = math.sqrt(cateto1**2 + cateto2**2)\n",
        " return hipotenusa\n",
        "\n",
        "hipotenusa(3,4)"
      ],
      "metadata": {
        "colab": {
          "base_uri": "https://localhost:8080/"
        },
        "id": "ZeylIwFwahst",
        "outputId": "028ea7f2-9052-4d37-8d9d-9cf452841f83"
      },
      "execution_count": null,
      "outputs": [
        {
          "output_type": "execute_result",
          "data": {
            "text/plain": [
              "5.0"
            ]
          },
          "metadata": {},
          "execution_count": 46
        }
      ]
    },
    {
      "cell_type": "code",
      "source": [
        " def posicao_final (posicao_inicial, velocidade, tempo):\n",
        "\n",
        "  return 220 + velocidade*tempo\n",
        "  \n",
        "\n",
        "posicao_final(220,-60, 2.5)\n"
      ],
      "metadata": {
        "colab": {
          "base_uri": "https://localhost:8080/"
        },
        "id": "yMqGX45_cqLL",
        "outputId": "32b31da5-fc0c-4e08-a79a-079a3882a884"
      },
      "execution_count": null,
      "outputs": [
        {
          "output_type": "execute_result",
          "data": {
            "text/plain": [
              "70.0"
            ]
          },
          "metadata": {},
          "execution_count": 56
        }
      ]
    },
    {
      "cell_type": "code",
      "source": [
        "def distancia_percorrida (posicao_final, posicao_inicial):\n",
        " return posicao_final - posicao_inicial\n",
        "\n",
        "distancia_percorrida(220,70)"
      ],
      "metadata": {
        "colab": {
          "base_uri": "https://localhost:8080/"
        },
        "id": "CbROaljWfRNX",
        "outputId": "921f67bb-7795-4690-a2ad-b47f8b37018e"
      },
      "execution_count": null,
      "outputs": [
        {
          "output_type": "execute_result",
          "data": {
            "text/plain": [
              "150"
            ]
          },
          "metadata": {},
          "execution_count": 71
        }
      ]
    },
    {
      "cell_type": "code",
      "source": [
        "def posicao_final (posicao_inicial, velocidade, tempo):\n",
        "  posicao_final = posicao_incial + velocidade*tempo\n",
        "  return posicao_final\n",
        "\n",
        "posicao_incial = 220\n",
        "posicao_final = posiciao_final (posicao_incial,-60,2.5)\n",
        "print (posicao_final, math.fabs(posicao_inicial - posicao_final))"
      ],
      "metadata": {
        "id": "FzEQEPU7jzRj"
      },
      "execution_count": null,
      "outputs": []
    },
    {
      "cell_type": "markdown",
      "source": [
        "#**Aula 02** - Built-in Functions & Bibliotecas sympy e matplot"
      ],
      "metadata": {
        "id": "mwt228-0_Qjb"
      }
    },
    {
      "cell_type": "code",
      "source": [
        "import math as nuno\n",
        "nuno.pow(2,3)"
      ],
      "metadata": {
        "colab": {
          "base_uri": "https://localhost:8080/"
        },
        "id": "bFZ0mO4W_hcn",
        "outputId": "de90383a-3070-438c-8be1-b8fd2d32e8a6"
      },
      "execution_count": 2,
      "outputs": [
        {
          "output_type": "execute_result",
          "data": {
            "text/plain": [
              "8.0"
            ]
          },
          "metadata": {},
          "execution_count": 2
        }
      ]
    },
    {
      "cell_type": "markdown",
      "source": [
        "##Funções trignométricas"
      ],
      "metadata": {
        "id": "thCzJdEXByLa"
      }
    },
    {
      "cell_type": "code",
      "source": [
        "from math import sin\n",
        "sin(45)"
      ],
      "metadata": {
        "colab": {
          "base_uri": "https://localhost:8080/"
        },
        "id": "H9GcdfwpCBGm",
        "outputId": "ff2a8e88-375c-468a-e448-a60ebdb20463"
      },
      "execution_count": 28,
      "outputs": [
        {
          "output_type": "execute_result",
          "data": {
            "text/plain": [
              "0.8509035245341184"
            ]
          },
          "metadata": {},
          "execution_count": 28
        }
      ]
    },
    {
      "cell_type": "code",
      "source": [
        "from math import cos\n",
        "cos(45)"
      ],
      "metadata": {
        "colab": {
          "base_uri": "https://localhost:8080/"
        },
        "id": "xlJX0-D4Dq7a",
        "outputId": "2af92c2f-0885-4f7b-981f-ff085f364c7c"
      },
      "execution_count": 31,
      "outputs": [
        {
          "output_type": "execute_result",
          "data": {
            "text/plain": [
              "0.5253219888177297"
            ]
          },
          "metadata": {},
          "execution_count": 31
        }
      ]
    },
    {
      "cell_type": "code",
      "source": [
        "from math import tan\n",
        "tan(45)"
      ],
      "metadata": {
        "colab": {
          "base_uri": "https://localhost:8080/"
        },
        "id": "uDtmOhAhDuzx",
        "outputId": "fec00334-66ec-4498-e497-e100f3e8ed6f"
      },
      "execution_count": 17,
      "outputs": [
        {
          "output_type": "execute_result",
          "data": {
            "text/plain": [
              "1.6197751905438615"
            ]
          },
          "metadata": {},
          "execution_count": 17
        }
      ]
    },
    {
      "cell_type": "code",
      "source": [
        "from math import radians\n",
        "radians(90)"
      ],
      "metadata": {
        "colab": {
          "base_uri": "https://localhost:8080/"
        },
        "id": "XNE7R4mdEvgz",
        "outputId": "c8ee7fd4-e9a6-4d4f-b981-afddb16811ae"
      },
      "execution_count": 22,
      "outputs": [
        {
          "output_type": "execute_result",
          "data": {
            "text/plain": [
              "1.5707963267948966"
            ]
          },
          "metadata": {},
          "execution_count": 22
        }
      ]
    },
    {
      "cell_type": "code",
      "source": [
        "import math\n",
        "math.cos(math.radians(45))"
      ],
      "metadata": {
        "colab": {
          "base_uri": "https://localhost:8080/"
        },
        "id": "Ma-6uQVxGTNG",
        "outputId": "5cdc7342-cf04-48e9-e53a-782a199fc0dd"
      },
      "execution_count": 30,
      "outputs": [
        {
          "output_type": "execute_result",
          "data": {
            "text/plain": [
              "0.7071067811865476"
            ]
          },
          "metadata": {},
          "execution_count": 30
        }
      ]
    },
    {
      "cell_type": "code",
      "source": [
        "import math\n",
        "math.sin(math.radians(90))"
      ],
      "metadata": {
        "colab": {
          "base_uri": "https://localhost:8080/"
        },
        "id": "bFkzNxKYGqk3",
        "outputId": "9d4c1a1f-b944-4b56-f087-eb196bfe9889"
      },
      "execution_count": 32,
      "outputs": [
        {
          "output_type": "execute_result",
          "data": {
            "text/plain": [
              "1.0"
            ]
          },
          "metadata": {},
          "execution_count": 32
        }
      ]
    },
    {
      "cell_type": "code",
      "source": [
        "import math\n",
        "\n",
        "graus = 45\n",
        "seno = math.sin(math.radians(graus))\n",
        "cosseno = math.cos(math.radians(graus))\n",
        "tangente = math.tan(math.radians(graus))\n",
        "\n",
        "print(seno, cosseno, tangente)"
      ],
      "metadata": {
        "colab": {
          "base_uri": "https://localhost:8080/"
        },
        "id": "cMhg1c2iIdZ4",
        "outputId": "cc9a2d7d-12e9-4699-e76c-a05b89d94f7a"
      },
      "execution_count": 44,
      "outputs": [
        {
          "output_type": "stream",
          "name": "stdout",
          "text": [
            "0.7071067811865475 0.7071067811865476 0.9999999999999999\n"
          ]
        }
      ]
    },
    {
      "cell_type": "code",
      "source": [
        "import math\n",
        "\n",
        "def evaluate(radianos):\n",
        " seno = math.sin(radianos)\n",
        " cosseno = math.cos(radianos)\n",
        " tangente = math.tan(radianos)\n",
        " return seno, cosseno, tangente\n",
        "\n",
        "evaluate(math.radians(45))"
      ],
      "metadata": {
        "colab": {
          "base_uri": "https://localhost:8080/"
        },
        "id": "Srarxsb0HAfq",
        "outputId": "a321fd99-fef5-4987-efa9-8a922b13ee7c"
      },
      "execution_count": 40,
      "outputs": [
        {
          "output_type": "execute_result",
          "data": {
            "text/plain": [
              "(0.7071067811865475, 0.7071067811865476, 0.9999999999999999)"
            ]
          },
          "metadata": {},
          "execution_count": 40
        }
      ]
    },
    {
      "cell_type": "markdown",
      "source": [],
      "metadata": {
        "id": "V-46QJ7UJE31"
      }
    },
    {
      "cell_type": "code",
      "source": [
        "import math\n",
        "math.sin(math.radians(0))"
      ],
      "metadata": {
        "colab": {
          "base_uri": "https://localhost:8080/"
        },
        "id": "oO7ZD5raJ-YM",
        "outputId": "757061ab-fff3-4e03-f04e-3d77df0e62de"
      },
      "execution_count": 48,
      "outputs": [
        {
          "output_type": "execute_result",
          "data": {
            "text/plain": [
              "0.0"
            ]
          },
          "metadata": {},
          "execution_count": 48
        }
      ]
    },
    {
      "cell_type": "code",
      "source": [
        "import math\n",
        "math.cos(math.radians(0))"
      ],
      "metadata": {
        "colab": {
          "base_uri": "https://localhost:8080/"
        },
        "id": "hCt6vYFPK4Ar",
        "outputId": "1840d01a-1450-49f7-9cc9-f7c0c5abf783"
      },
      "execution_count": 49,
      "outputs": [
        {
          "output_type": "execute_result",
          "data": {
            "text/plain": [
              "1.0"
            ]
          },
          "metadata": {},
          "execution_count": 49
        }
      ]
    },
    {
      "cell_type": "code",
      "source": [
        "import math\n",
        "math.tan(math.radians(0))"
      ],
      "metadata": {
        "colab": {
          "base_uri": "https://localhost:8080/"
        },
        "id": "YvmhUe5ALA3l",
        "outputId": "d0b871ca-23c8-4ce4-8eee-06c9b6e397cf"
      },
      "execution_count": 50,
      "outputs": [
        {
          "output_type": "execute_result",
          "data": {
            "text/plain": [
              "0.0"
            ]
          },
          "metadata": {},
          "execution_count": 50
        }
      ]
    },
    {
      "cell_type": "code",
      "source": [
        "import math\n",
        "math.sin(math.pi/6)\n"
      ],
      "metadata": {
        "colab": {
          "base_uri": "https://localhost:8080/"
        },
        "id": "1X9ACxLwLJNs",
        "outputId": "d0bfb3d4-9147-4502-9877-7d7eaf0523ed"
      },
      "execution_count": 55,
      "outputs": [
        {
          "output_type": "execute_result",
          "data": {
            "text/plain": [
              "0.49999999999999994"
            ]
          },
          "metadata": {},
          "execution_count": 55
        }
      ]
    },
    {
      "cell_type": "code",
      "source": [
        "import math\n",
        "math.sin(math.pi/4)"
      ],
      "metadata": {
        "colab": {
          "base_uri": "https://localhost:8080/"
        },
        "id": "AVmjov0MMkb9",
        "outputId": "705f1530-93d0-464b-de4a-f6b29da93465"
      },
      "execution_count": 56,
      "outputs": [
        {
          "output_type": "execute_result",
          "data": {
            "text/plain": [
              "0.7071067811865475"
            ]
          },
          "metadata": {},
          "execution_count": 56
        }
      ]
    },
    {
      "cell_type": "code",
      "source": [
        "import math\n",
        "math.sin(math.pi/3)"
      ],
      "metadata": {
        "colab": {
          "base_uri": "https://localhost:8080/"
        },
        "id": "sx7qK1VaM0Cq",
        "outputId": "7104d046-67fd-49ae-c0a0-574b0d23f31a"
      },
      "execution_count": 59,
      "outputs": [
        {
          "output_type": "execute_result",
          "data": {
            "text/plain": [
              "0.8660254037844386"
            ]
          },
          "metadata": {},
          "execution_count": 59
        }
      ]
    },
    {
      "cell_type": "code",
      "source": [
        "import math\n",
        "math.sin(math.pi/2)"
      ],
      "metadata": {
        "colab": {
          "base_uri": "https://localhost:8080/"
        },
        "id": "vwTz087bM_oA",
        "outputId": "7b120dde-db62-48c5-ae57-15f7e195eeee"
      },
      "execution_count": 70,
      "outputs": [
        {
          "output_type": "execute_result",
          "data": {
            "text/plain": [
              "1.0"
            ]
          },
          "metadata": {},
          "execution_count": 70
        }
      ]
    },
    {
      "cell_type": "code",
      "source": [
        "import math\n",
        "math.sin(math.pi/1)"
      ],
      "metadata": {
        "colab": {
          "base_uri": "https://localhost:8080/"
        },
        "id": "6w1HNwZtNS8O",
        "outputId": "d31d385f-2d63-41a9-df03-ef8901a50b14"
      },
      "execution_count": 61,
      "outputs": [
        {
          "output_type": "execute_result",
          "data": {
            "text/plain": [
              "1.2246467991473532e-16"
            ]
          },
          "metadata": {},
          "execution_count": 61
        }
      ]
    },
    {
      "cell_type": "code",
      "source": [
        "import math\n",
        "math.sin(math.pi)"
      ],
      "metadata": {
        "colab": {
          "base_uri": "https://localhost:8080/"
        },
        "id": "w4rvzuXaNdeQ",
        "outputId": "9352f589-8dc6-4d34-abce-b6ec465da6a4"
      },
      "execution_count": 66,
      "outputs": [
        {
          "output_type": "execute_result",
          "data": {
            "text/plain": [
              "1.2246467991473532e-16"
            ]
          },
          "metadata": {},
          "execution_count": 66
        }
      ]
    },
    {
      "cell_type": "code",
      "source": [
        "import math\n",
        "def trigonometria(radianos):\n",
        "  trigonometria = math.sin(radianos), math.cos(radianos), math.tan(radianos)\n",
        "  return trigonometria\n",
        "\n",
        "print(trigonometria(0))\n",
        "print(trigonometria(math.pi/6))\n",
        "print(trigonometria(math.pi/4))\n",
        "print(trigonometria(math.pi/3))\n",
        "print(trigonometria(math.pi/2))\n",
        "print(trigonometria(math.pi))\n",
        "print(trigonometria(math.pi*3/2))\n",
        "print(trigonometria(2*(math.pi)))"
      ],
      "metadata": {
        "colab": {
          "base_uri": "https://localhost:8080/"
        },
        "id": "Wx2jz5bxRHWq",
        "outputId": "fb606964-f54b-4127-8754-e5ec8ea5bf58"
      },
      "execution_count": 74,
      "outputs": [
        {
          "output_type": "stream",
          "name": "stdout",
          "text": [
            "(0.0, 1.0, 0.0)\n",
            "(0.49999999999999994, 0.8660254037844387, 0.5773502691896257)\n",
            "(0.7071067811865475, 0.7071067811865476, 0.9999999999999999)\n",
            "(0.8660254037844386, 0.5000000000000001, 1.7320508075688767)\n",
            "(1.0, 6.123233995736766e-17, 1.633123935319537e+16)\n",
            "(1.2246467991473532e-16, -1.0, -1.2246467991473532e-16)\n",
            "(-1.0, -1.8369701987210297e-16, 5443746451065123.0)\n",
            "(-2.4492935982947064e-16, 1.0, -2.4492935982947064e-16)\n"
          ]
        }
      ]
    },
    {
      "cell_type": "code",
      "source": [
        "from sympy import sin, cos, tan, pi\n",
        "from sympy.abc import x\n",
        "\n",
        "graus = pi/4\n",
        "seno = sin(graus)\n",
        "cosseno = cos(graus)\n",
        "tangente = tan(graus)\n",
        "\n",
        "print(seno, cosseno, tangente)"
      ],
      "metadata": {
        "colab": {
          "base_uri": "https://localhost:8080/"
        },
        "id": "T1EbPox_XnY3",
        "outputId": "bccc7947-28d6-4f80-b314-594373cbc5a7"
      },
      "execution_count": 87,
      "outputs": [
        {
          "output_type": "stream",
          "name": "stdout",
          "text": [
            "sqrt(2)/2 sqrt(2)/2 1\n"
          ]
        }
      ]
    },
    {
      "cell_type": "code",
      "source": [
        "import sympy\n",
        "def trigonometria(radianos):\n",
        "  trigonometria = sin(radianos), cos(radianos), tan(radianos)\n",
        "  return trigonometria\n",
        "\n",
        "print(trigonometria(0))\n",
        "print(trigonometria(pi/6))\n",
        "print(trigonometria(pi/4))\n",
        "print(trigonometria(pi/3))\n",
        "print(trigonometria(pi/2))\n",
        "print(trigonometria(pi))\n",
        "print(trigonometria(pi*3/2))\n",
        "print(trigonometria(2*(pi)))"
      ],
      "metadata": {
        "colab": {
          "base_uri": "https://localhost:8080/"
        },
        "id": "ouYI2Y7dZwoZ",
        "outputId": "897de5ea-4a7e-46f5-c572-dd1886651668"
      },
      "execution_count": 89,
      "outputs": [
        {
          "output_type": "stream",
          "name": "stdout",
          "text": [
            "(0, 1, 0)\n",
            "(1/2, sqrt(3)/2, sqrt(3)/3)\n",
            "(sqrt(2)/2, sqrt(2)/2, 1)\n",
            "(sqrt(3)/2, 1/2, sqrt(3))\n",
            "(1, 0, zoo)\n",
            "(0, -1, 0)\n",
            "(-1, 0, zoo)\n",
            "(0, 1, 0)\n"
          ]
        }
      ]
    },
    {
      "cell_type": "code",
      "source": [
        "import sympy\n",
        "\n",
        "def evaluate(radianos):\n",
        "    return sympy.sin(radianos), sympy.cos(radianos), sympy.tan(radianos)\n",
        "\n",
        "evaluate(sympy.arg(45))"
      ],
      "metadata": {
        "colab": {
          "base_uri": "https://localhost:8080/"
        },
        "id": "P3mt5MA7cmcg",
        "outputId": "acdb1382-854f-4d9f-e81f-0b2dc3e13b83"
      },
      "execution_count": 98,
      "outputs": [
        {
          "output_type": "execute_result",
          "data": {
            "text/plain": [
              "(0, 1, 0)"
            ]
          },
          "metadata": {},
          "execution_count": 98
        }
      ]
    },
    {
      "cell_type": "code",
      "source": [
        "from mpmath import mp\n",
        "mp.dps = 50\n",
        "print(mp.quad(lambda x: mp.exp(-x**2), [-mp.inf, mp.inf]) ** 2)"
      ],
      "metadata": {
        "colab": {
          "base_uri": "https://localhost:8080/"
        },
        "id": "NCiHIZtFWKx6",
        "outputId": "53cce467-03e0-45d0-a689-5dac14cc226e"
      },
      "execution_count": 75,
      "outputs": [
        {
          "output_type": "stream",
          "name": "stdout",
          "text": [
            "3.1415926535897932384626433832795028841971693993751\n"
          ]
        }
      ]
    },
    {
      "cell_type": "code",
      "source": [
        "!pip install mpmath"
      ],
      "metadata": {
        "colab": {
          "base_uri": "https://localhost:8080/"
        },
        "id": "Q372uH8xXPlc",
        "outputId": "7f6bf380-018a-462c-e8da-5034b50daa40"
      },
      "execution_count": 77,
      "outputs": [
        {
          "output_type": "stream",
          "name": "stdout",
          "text": [
            "Looking in indexes: https://pypi.org/simple, https://us-python.pkg.dev/colab-wheels/public/simple/\n",
            "Requirement already satisfied: mpmath in /usr/local/lib/python3.7/dist-packages (1.2.1)\n"
          ]
        }
      ]
    }
  ]
}